{
 "cells": [
  {
   "cell_type": "code",
   "execution_count": 1,
   "id": "ec56947a-6f7a-4bf9-bf99-cb2fb0ff2d6c",
   "metadata": {},
   "outputs": [
    {
     "name": "stdout",
     "output_type": "stream",
     "text": [
      "Hello,python Full stack students!\n"
     ]
    }
   ],
   "source": [
    "print(\"Hello,python Full stack students!\")"
   ]
  },
  {
   "cell_type": "code",
   "execution_count": 6,
   "id": "c128c380-f320-414e-837f-4ae379922070",
   "metadata": {},
   "outputs": [
    {
     "name": "stdout",
     "output_type": "stream",
     "text": [
      "aaqil 19 9.5 True\n"
     ]
    }
   ],
   "source": [
    "name=\"aaqil\"\n",
    "age=19\n",
    "gpa=9.5\n",
    "is_student=True\n",
    "print(name, age, gpa, is_student)"
   ]
  },
  {
   "cell_type": "code",
   "execution_count": 8,
   "id": "9d477c6f-a344-435d-b7f2-4f710c487960",
   "metadata": {},
   "outputs": [
    {
     "name": "stdout",
     "output_type": "stream",
     "text": [
      "krishna 2 1.0 False\n"
     ]
    }
   ],
   "source": [
    "name=\"krishna\"\n",
    "age=2\n",
    "gpa=1.0\n",
    "is_student=False\n",
    "print(name, age, gpa, is_student)"
   ]
  },
  {
   "cell_type": "code",
   "execution_count": 15,
   "id": "9f736b42-2aba-441d-b319-a502ae95d2a1",
   "metadata": {},
   "outputs": [
    {
     "name": "stdout",
     "output_type": "stream",
     "text": [
      "<class 'int'> <class 'float'> <class 'str'> <class 'bool'>\n"
     ]
    }
   ],
   "source": [
    "x=10\n",
    "y=3.14\n",
    "z=\"Python\"\n",
    "flag=False\n",
    "print(type(x), type(y), type(z), type(flag))"
   ]
  },
  {
   "cell_type": "code",
   "execution_count": 19,
   "id": "245a4679-35ef-4c97-ba04-1a74d2a29ccf",
   "metadata": {},
   "outputs": [
    {
     "name": "stdout",
     "output_type": "stream",
     "text": [
      "aaqil avinash college of commerce Fit\n"
     ]
    }
   ],
   "source": [
    "name=\"aaqil\"\n",
    "college=\"avinash college of commerce\"\n",
    "favlang= \"Fit\"\n",
    "print(name, college, favlang)\n"
   ]
  },
  {
   "cell_type": "code",
   "execution_count": 22,
   "id": "a8f6d084-1944-4510-afef-6aee8fc0c949",
   "metadata": {},
   "outputs": [
    {
     "data": {
      "text/plain": [
       "-18"
      ]
     },
     "execution_count": 22,
     "metadata": {},
     "output_type": "execute_result"
    }
   ],
   "source": [
    "dob=2007\n",
    "year=2025\n",
    "dob-year"
   ]
  },
  {
   "cell_type": "code",
   "execution_count": 23,
   "id": "c3514c9f-85bf-4475-bc9f-88dd77b525a2",
   "metadata": {},
   "outputs": [
    {
     "name": "stdout",
     "output_type": "stream",
     "text": [
      "aaple 2000 10\n"
     ]
    }
   ],
   "source": [
    "movie=\"aaple\"\n",
    "release_year=2000\n",
    "rating=10\n",
    "print(movie, release_year, rating)"
   ]
  },
  {
   "cell_type": "code",
   "execution_count": 24,
   "id": "eafd99db-a927-408e-bbcf-cc4d3c93e564",
   "metadata": {},
   "outputs": [
    {
     "name": "stdout",
     "output_type": "stream",
     "text": [
      "Addition: 19\n",
      "Division: 3.75\n",
      "Floor Division: 3\n",
      "power: 50625\n"
     ]
    }
   ],
   "source": [
    "a=15\n",
    "b=4\n",
    "print(\"Addition:\",a + b)\n",
    "print(\"Division:\",a / b)\n",
    "print(\"Floor Division:\",a//b)\n",
    "print(\"power:\",a**b)"
   ]
  },
  {
   "cell_type": "code",
   "execution_count": 26,
   "id": "c7dbfe06-c6ae-4528-a59a-6964f9a5d226",
   "metadata": {},
   "outputs": [
    {
     "name": "stdout",
     "output_type": "stream",
     "text": [
      "False\n",
      "True\n",
      "True\n"
     ]
    }
   ],
   "source": [
    "a=10\n",
    "b=20\n",
    "print(a>b) # FALSE\n",
    "print(a==10)# TRUE\n",
    "print((a<b) and (b==20))# TRUE\n"
   ]
  },
  {
   "cell_type": "code",
   "execution_count": 8,
   "id": "7c487e29-98ac-45bf-8074-77da3123544c",
   "metadata": {},
   "outputs": [
    {
     "name": "stdout",
     "output_type": "stream",
     "text": [
      "['aaple', 'banana', 'mango', 'orange']\n",
      "banana\n"
     ]
    }
   ],
   "source": [
    "\n",
    "fruits=[\"aaple\", \"banana\", \"mango\"]\n",
    "fruits.append(\"orange\")\n",
    "print(fruits) # ['apple' 'banana','mango','orange',]\n",
    "print(fruits[1])  # banana"
   ]
  },
  {
   "cell_type": "code",
   "execution_count": 9,
   "id": "4ef9459b-d051-4b30-8934-e7e574c3d92a",
   "metadata": {},
   "outputs": [
    {
     "name": "stdout",
     "output_type": "stream",
     "text": [
      "red\n"
     ]
    }
   ],
   "source": [
    "colors=(\"red\", \"green\", \"blue\")\n",
    "print(colors[0]) # red"
   ]
  },
  {
   "cell_type": "code",
   "execution_count": 1,
   "id": "c24f1f3b-d0cb-4f67-8c30-71dc4b9d6c9a",
   "metadata": {},
   "outputs": [
    {
     "name": "stdout",
     "output_type": "stream",
     "text": [
      "{1, 2, 3, 4, 5}\n"
     ]
    }
   ],
   "source": [
    "no={1,2,3,3,4}\n",
    "no.add(5)\n",
    "print(no) # {1,2,3,4,5}"
   ]
  },
  {
   "cell_type": "code",
   "execution_count": 8,
   "id": "69537c5a-6b6b-4144-8b7b-e8aea6508322",
   "metadata": {},
   "outputs": [
    {
     "ename": "IndentationError",
     "evalue": "unexpected indent (3369053550.py, line 5)",
     "output_type": "error",
     "traceback": [
      "\u001b[1;36m  Cell \u001b[1;32mIn[8], line 5\u001b[1;36m\u001b[0m\n\u001b[1;33m    \"college\"=\"ABC University\"\u001b[0m\n\u001b[1;37m    ^\u001b[0m\n\u001b[1;31mIndentationError\u001b[0m\u001b[1;31m:\u001b[0m unexpected indent\n"
     ]
    }
   ],
   "source": [
    "student={\n",
    "    \"name\":\"aaqil\",\n",
    "    \"age\":18,\n",
    "    \"course\":\"python full stack\"}\n",
    "     \"college\"=\"ABC University\"\n",
    "     print(student.keys()) #dict keys\n",
    "     print(student.values()) # dict values\n",
    "     \n",
    "print(student[\"name\"]) # aaqil,\n",
    "\"age\"=18 #update,\n",
    "print(student)\n",
    "print[\"college\"]=\"ABC University\""
   ]
  },
  {
   "cell_type": "code",
   "execution_count": 12,
   "id": "766f14fb-f270-43cd-a892-96139d3d0c71",
   "metadata": {},
   "outputs": [
    {
     "name": "stdout",
     "output_type": "stream",
     "text": [
      "grade:B\n"
     ]
    }
   ],
   "source": [
    "marks=75\n",
    "if marks>=90:\n",
    "  print(\"grade:A\")\n",
    "elif marks>=75:\n",
    "   print(\"grade:B\")\n",
    "elif marks>=50:\n",
    "    print(\"grade:C\")\n",
    "else:\n",
    "     print(\"grade:FAIL\")\n"
   ]
  },
  {
   "cell_type": "code",
   "execution_count": 13,
   "id": "0fea68c5-bac0-4e19-8250-e4135f1fd70e",
   "metadata": {},
   "outputs": [
    {
     "name": "stdout",
     "output_type": "stream",
     "text": [
      "number: 1\n",
      "number: 2\n",
      "number: 3\n",
      "number: 4\n",
      "number: 5\n"
     ]
    }
   ],
   "source": [
    "for i in range (1,6):\n",
    "    print(\"number:\",i)"
   ]
  },
  {
   "cell_type": "code",
   "execution_count": 20,
   "id": "4d68edc8-b7a2-4a5b-b6eb-b213ae1a6523",
   "metadata": {},
   "outputs": [
    {
     "name": "stdout",
     "output_type": "stream",
     "text": [
      "count: 1\n",
      "count: 2\n",
      "count: 3\n",
      "count: 4\n",
      "count: 5\n"
     ]
    }
   ],
   "source": [
    "\n",
    "count=1\n",
    "while count <= 5:\n",
    "    print(\"count:\", count)\n",
    "    count += 1"
   ]
  },
  {
   "cell_type": "code",
   "execution_count": null,
   "id": "57b0d5ec-5793-490a-a1e3-c96cd24f1a4a",
   "metadata": {},
   "outputs": [],
   "source": []
  },
  {
   "cell_type": "code",
   "execution_count": null,
   "id": "890655ec-b19e-4054-8677-8db5899f5e1e",
   "metadata": {},
   "outputs": [],
   "source": []
  },
  {
   "cell_type": "code",
   "execution_count": null,
   "id": "117e3125-59fa-4472-aa7d-3ac88033ea6f",
   "metadata": {},
   "outputs": [],
   "source": []
  }
 ],
 "metadata": {
  "kernelspec": {
   "display_name": "Python [conda env:base] *",
   "language": "python",
   "name": "conda-base-py"
  },
  "language_info": {
   "codemirror_mode": {
    "name": "ipython",
    "version": 3
   },
   "file_extension": ".py",
   "mimetype": "text/x-python",
   "name": "python",
   "nbconvert_exporter": "python",
   "pygments_lexer": "ipython3",
   "version": "3.13.5"
  }
 },
 "nbformat": 4,
 "nbformat_minor": 5
}
