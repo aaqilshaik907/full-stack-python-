{
 "cells": [
  {
   "cell_type": "code",
   "execution_count": 1,
   "id": "ec56947a-6f7a-4bf9-bf99-cb2fb0ff2d6c",
   "metadata": {},
   "outputs": [
    {
     "name": "stdout",
     "output_type": "stream",
     "text": [
      "Hello,python Full stack students!\n"
     ]
    }
   ],
   "source": [
    "print(\"Hello,python Full stack students!\")"
   ]
  },
  {
   "cell_type": "code",
   "execution_count": null,
   "id": "4d9a8260-7c13-459f-a162-e2e41ff28bf4",
   "metadata": {},
   "outputs": [],
   "source": []
  },
  {
   "cell_type": "code",
   "execution_count": null,
   "id": "4e98e6f0-973c-4f7c-9166-7697cb750d21",
   "metadata": {},
   "outputs": [],
   "source": []
  },
  {
   "cell_type": "code",
   "execution_count": 6,
   "id": "c128c380-f320-414e-837f-4ae379922070",
   "metadata": {},
   "outputs": [
    {
     "name": "stdout",
     "output_type": "stream",
     "text": [
      "aaqil 19 9.5 True\n"
     ]
    }
   ],
   "source": [
    "name=\"aaqil\"\n",
    "age=19\n",
    "gpa=9.5\n",
    "is_student=True\n",
    "print(name, age, gpa, is_student)"
   ]
  },
  {
   "cell_type": "code",
   "execution_count": 8,
   "id": "9d477c6f-a344-435d-b7f2-4f710c487960",
   "metadata": {},
   "outputs": [
    {
     "name": "stdout",
     "output_type": "stream",
     "text": [
      "krishna 2 1.0 False\n"
     ]
    }
   ],
   "source": [
    "name=\"krishna\"\n",
    "age=2\n",
    "gpa=1.0\n",
    "is_student=False\n",
    "print(name, age, gpa, is_student)"
   ]
  },
  {
   "cell_type": "code",
   "execution_count": 15,
   "id": "9f736b42-2aba-441d-b319-a502ae95d2a1",
   "metadata": {},
   "outputs": [
    {
     "name": "stdout",
     "output_type": "stream",
     "text": [
      "<class 'int'> <class 'float'> <class 'str'> <class 'bool'>\n"
     ]
    }
   ],
   "source": [
    "x=10\n",
    "y=3.14\n",
    "z=\"Python\"\n",
    "flag=False\n",
    "print(type(x), type(y), type(z), type(flag))"
   ]
  },
  {
   "cell_type": "code",
   "execution_count": 19,
   "id": "245a4679-35ef-4c97-ba04-1a74d2a29ccf",
   "metadata": {},
   "outputs": [
    {
     "name": "stdout",
     "output_type": "stream",
     "text": [
      "aaqil avinash college of commerce Fit\n"
     ]
    }
   ],
   "source": [
    "name=\"aaqil\"\n",
    "college=\"avinash college of commerce\"\n",
    "favlang= \"Fit\"\n",
    "print(name, college, favlang)\n"
   ]
  },
  {
   "cell_type": "code",
   "execution_count": 22,
   "id": "a8f6d084-1944-4510-afef-6aee8fc0c949",
   "metadata": {},
   "outputs": [
    {
     "data": {
      "text/plain": [
       "-18"
      ]
     },
     "execution_count": 22,
     "metadata": {},
     "output_type": "execute_result"
    }
   ],
   "source": [
    "dob=2007\n",
    "year=2025\n",
    "dob-year"
   ]
  },
  {
   "cell_type": "code",
   "execution_count": 23,
   "id": "c3514c9f-85bf-4475-bc9f-88dd77b525a2",
   "metadata": {},
   "outputs": [
    {
     "name": "stdout",
     "output_type": "stream",
     "text": [
      "aaple 2000 10\n"
     ]
    }
   ],
   "source": [
    "movie=\"aaple\"\n",
    "release_year=2000\n",
    "rating=10\n",
    "print(movie, release_year, rating)"
   ]
  },
  {
   "cell_type": "code",
   "execution_count": 24,
   "id": "eafd99db-a927-408e-bbcf-cc4d3c93e564",
   "metadata": {},
   "outputs": [
    {
     "name": "stdout",
     "output_type": "stream",
     "text": [
      "Addition: 19\n",
      "Division: 3.75\n",
      "Floor Division: 3\n",
      "power: 50625\n"
     ]
    }
   ],
   "source": [
    "a=15\n",
    "b=4\n",
    "print(\"Addition:\",a + b)\n",
    "print(\"Division:\",a / b)\n",
    "print(\"Floor Division:\",a//b)\n",
    "print(\"power:\",a**b)"
   ]
  },
  {
   "cell_type": "code",
   "execution_count": 26,
   "id": "c7dbfe06-c6ae-4528-a59a-6964f9a5d226",
   "metadata": {},
   "outputs": [
    {
     "name": "stdout",
     "output_type": "stream",
     "text": [
      "False\n",
      "True\n",
      "True\n"
     ]
    }
   ],
   "source": [
    "a=10\n",
    "b=20\n",
    "print(a>b) # FALSE\n",
    "print(a==10)# TRUE\n",
    "print((a<b) and (b==20))# TRUE\n"
   ]
  },
  {
   "cell_type": "code",
   "execution_count": null,
   "id": "7c487e29-98ac-45bf-8074-77da3123544c",
   "metadata": {},
   "outputs": [],
   "source": []
  }
 ],
 "metadata": {
  "kernelspec": {
   "display_name": "Python [conda env:base] *",
   "language": "python",
   "name": "conda-base-py"
  },
  "language_info": {
   "codemirror_mode": {
    "name": "ipython",
    "version": 3
   },
   "file_extension": ".py",
   "mimetype": "text/x-python",
   "name": "python",
   "nbconvert_exporter": "python",
   "pygments_lexer": "ipython3",
   "version": "3.13.5"
  }
 },
 "nbformat": 4,
 "nbformat_minor": 5
}
